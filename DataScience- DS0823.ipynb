{
 "cells": [
  {
   "cell_type": "code",
   "execution_count": 1,
   "id": "cdfed4ab",
   "metadata": {},
   "outputs": [
    {
     "name": "stdout",
     "output_type": "stream",
     "text": [
      "Sharon\n"
     ]
    }
   ],
   "source": [
    "print(\"Sharon\")"
   ]
  },
  {
   "cell_type": "markdown",
   "id": "f421274b",
   "metadata": {},
   "source": [
    "comm"
   ]
  },
  {
   "cell_type": "code",
   "execution_count": null,
   "id": "0d818597",
   "metadata": {},
   "outputs": [],
   "source": [
    "Esc+A = Add row above the cell\n",
    "Esc+B = Add the cell - below the current cell\n",
    "Esc+D+D = Delete a particular cell\n",
    "comm+Enter = to run/ to execute the cell\n",
    "comm+S = Save everything"
   ]
  }
 ],
 "metadata": {
  "kernelspec": {
   "display_name": "Python 3 (ipykernel)",
   "language": "python",
   "name": "python3"
  },
  "language_info": {
   "codemirror_mode": {
    "name": "ipython",
    "version": 3
   },
   "file_extension": ".py",
   "mimetype": "text/x-python",
   "name": "python",
   "nbconvert_exporter": "python",
   "pygments_lexer": "ipython3",
   "version": "3.11.4"
  }
 },
 "nbformat": 4,
 "nbformat_minor": 5
}
